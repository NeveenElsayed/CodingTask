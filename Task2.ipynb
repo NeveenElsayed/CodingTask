{
 "cells": [
  {
   "cell_type": "code",
   "execution_count": 26,
   "metadata": {},
   "outputs": [
    {
     "name": "stdout",
     "output_type": "stream",
     "text": [
      "3.1311764705882354\n",
      "3.1404352468468506\n",
      "3.14156862745098\n",
      "0.33073400643584533\n",
      "0.03601556997498159\n",
      "6.135317706782376e-05\n"
     ]
    }
   ],
   "source": [
    "### Task 2 \n",
    "\n",
    "a = 0\n",
    "b = 1\n",
    "\n",
    "def f(x):\n",
    "    return 4/(1+pow(x, 2))\n",
    "\n",
    "def xi(i, d_x):\n",
    "    return a + (i * d_x)\n",
    "\n",
    "def trapezoidal(n):\n",
    "    d_x = (b-a)/n\n",
    "    sum = 0\n",
    "    for i in range(1, n):\n",
    "        sum = sum + (f(xi(i, d_x)))\n",
    "\n",
    "    sum = sum + ((f(b)+f(a)) / 2)\n",
    "    approx_pi = d_x * sum\n",
    "    return approx_pi\n",
    "\n",
    "def simpson(n):\n",
    "    d_x = (b-a)/n\n",
    "    \n",
    "    sum_odd = 0\n",
    "    sum_even = 0\n",
    "\n",
    "    for i in range(1, n, 2):\n",
    "        sum_odd = sum_odd + (f(xi(i, d_x)))\n",
    "\n",
    "    for i in range(2, n-1, 2):\n",
    "        sum_even = sum_even + (f(xi(i, d_x)))\n",
    "\n",
    "    sum = f(a) + (4 * sum_odd) + (2 * sum_even) + f(b)\n",
    "\n",
    "    approx_pi = (d_x / 3) * sum\n",
    "    return approx_pi\n",
    "\n",
    "print(trapezoidal(4))\n",
    "print(trapezoidal(12))\n",
    "print(simpson(4))\n",
    "\n",
    "TRUE_VALUE = 3.1415667\n",
    "\n",
    "def error(approx_pi):\n",
    "    return abs((TRUE_VALUE - approx_pi)/ TRUE_VALUE) * 100\n",
    "\n",
    "print(error(trapezoidal(4)))\n",
    "print(error(trapezoidal(12)))\n",
    "print(error(simpson(4)))\n"
   ]
  }
 ],
 "metadata": {
  "kernelspec": {
   "display_name": "Python 3",
   "language": "python",
   "name": "python3"
  },
  "language_info": {
   "codemirror_mode": {
    "name": "ipython",
    "version": 3
   },
   "file_extension": ".py",
   "mimetype": "text/x-python",
   "name": "python",
   "nbconvert_exporter": "python",
   "pygments_lexer": "ipython3",
   "version": "3.10.7"
  },
  "orig_nbformat": 4
 },
 "nbformat": 4,
 "nbformat_minor": 2
}
