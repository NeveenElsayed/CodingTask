{
 "cells": [
  {
   "cell_type": "code",
   "execution_count": 25,
   "metadata": {},
   "outputs": [
    {
     "name": "stdout",
     "output_type": "stream",
     "text": [
      "-3.566690905823207\n",
      "-4\n",
      "28\n",
      "12.148770544409803\n"
     ]
    }
   ],
   "source": [
    "### Task 1\n",
    "\n",
    "import math\n",
    "\n",
    "input = open('task1_input.txt',\"r\")\n",
    "lines = input.readlines()\n",
    "charges = []\n",
    "\n",
    "for line in lines:\n",
    "    charges.append(line.split()[1:])\n",
    "\n",
    "# print(charges)\n",
    "\n",
    "K = 0.3062\n",
    "\n",
    "def distance(p1: list, p2: list):\n",
    "    return math.sqrt(\n",
    "        pow(float(p2[0]) - float(p1[0]), 2) + \n",
    "        pow(float(p2[1]) - float(p1[1]), 2) + \n",
    "        pow(float(p2[2]) - float(p1[2]), 2)\n",
    "    )\n",
    "\n",
    "def energy(p1, p2):\n",
    "    # p[3] is the charge q\n",
    "    return K * ((float(p1[3]) * float(p2[3])) / distance(p1, p2))\n",
    "\n",
    "total_energy = 0.0\n",
    "rounded_total_energy = 0\n",
    "total_interactions = 0\n",
    "\n",
    "for i in range(0, len(charges) - 1):\n",
    "    for j in range(i+1, len(charges)):\n",
    "        e = energy(charges[i], charges[j])\n",
    "        total_energy += e\n",
    "        rounded_total_energy = round(total_energy)\n",
    "        total_interactions +=1\n",
    "\n",
    "print(total_energy)\n",
    "print(rounded_total_energy)\n",
    "print(total_interactions)\n",
    "\n",
    "def error(true_val, approx_val):\n",
    "    return abs((true_val - approx_val)/ true_val) * 100\n",
    "\n",
    "print(error(total_energy, rounded_total_energy))\n",
    "\n",
    "    \n",
    "\n"
   ]
  }
 ],
 "metadata": {
  "kernelspec": {
   "display_name": "Python 3",
   "language": "python",
   "name": "python3"
  },
  "language_info": {
   "codemirror_mode": {
    "name": "ipython",
    "version": 3
   },
   "file_extension": ".py",
   "mimetype": "text/x-python",
   "name": "python",
   "nbconvert_exporter": "python",
   "pygments_lexer": "ipython3",
   "version": "3.10.7"
  },
  "orig_nbformat": 4
 },
 "nbformat": 4,
 "nbformat_minor": 2
}
